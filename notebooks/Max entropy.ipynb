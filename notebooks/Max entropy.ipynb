{
 "cells": [
  {
   "cell_type": "code",
   "execution_count": 1,
   "metadata": {},
   "outputs": [],
   "source": [
    "%load_ext autoreload\n",
    "%load_ext line_profiler"
   ]
  },
  {
   "cell_type": "code",
   "execution_count": 2,
   "metadata": {},
   "outputs": [],
   "source": [
    "%autoreload 1"
   ]
  },
  {
   "cell_type": "code",
   "execution_count": 3,
   "metadata": {},
   "outputs": [],
   "source": [
    "import sys\n",
    "\n",
    "# Allow importing game modules.\n",
    "sys.path.append('../')"
   ]
  },
  {
   "cell_type": "code",
   "execution_count": 4,
   "metadata": {},
   "outputs": [],
   "source": [
    "# Auto reload wordle libraries on edit -> save\n",
    "%aimport wordle\n",
    "%aimport solver"
   ]
  },
  {
   "cell_type": "code",
   "execution_count": 5,
   "metadata": {},
   "outputs": [],
   "source": [
    "%aimport wordle_game.helper"
   ]
  },
  {
   "cell_type": "code",
   "execution_count": 6,
   "metadata": {},
   "outputs": [],
   "source": [
    "import os\n",
    "import cProfile, pstats\n",
    "from multiprocessing import Pool\n",
    "from functools import partial\n",
    "\n",
    "import numpy as np\n",
    "from tqdm import tqdm"
   ]
  },
  {
   "cell_type": "code",
   "execution_count": 7,
   "metadata": {},
   "outputs": [],
   "source": [
    "wordlist = wordle.WordList()"
   ]
  },
  {
   "cell_type": "code",
   "execution_count": 8,
   "metadata": {},
   "outputs": [
    {
     "data": {
      "text/plain": [
       "('aback', 'aahed')"
      ]
     },
     "execution_count": 8,
     "metadata": {},
     "output_type": "execute_result"
    }
   ],
   "source": [
    "wordlist.answers[0], wordlist.acceptable_guesses[0]"
   ]
  },
  {
   "cell_type": "code",
   "execution_count": 9,
   "metadata": {},
   "outputs": [
    {
     "data": {
      "text/plain": [
       "array([2, 1, 0, 0, 0])"
      ]
     },
     "execution_count": 9,
     "metadata": {},
     "output_type": "execute_result"
    }
   ],
   "source": [
    "wordle.generate_state(wordlist.answers[0], wordlist.acceptable_guesses[0])"
   ]
  },
  {
   "cell_type": "code",
   "execution_count": 10,
   "metadata": {},
   "outputs": [
    {
     "data": {
      "text/plain": [
       "5"
      ]
     },
     "execution_count": 10,
     "metadata": {},
     "output_type": "execute_result"
    }
   ],
   "source": [
    "wordle_game.helper.generate_state(wordlist.answers[0], wordlist.acceptable_guesses[0])"
   ]
  },
  {
   "cell_type": "markdown",
   "metadata": {},
   "source": [
    "## Profiling"
   ]
  },
  {
   "cell_type": "code",
   "execution_count": 11,
   "metadata": {},
   "outputs": [
    {
     "name": "stdout",
     "output_type": "stream",
     "text": [
      "5.27 µs ± 57.3 ns per loop (mean ± std. dev. of 7 runs, 100000 loops each)\n"
     ]
    }
   ],
   "source": [
    "%timeit wordle.generate_state(wordlist.answers[0], wordlist.acceptable_guesses[0])"
   ]
  },
  {
   "cell_type": "code",
   "execution_count": 12,
   "metadata": {},
   "outputs": [
    {
     "name": "stdout",
     "output_type": "stream",
     "text": [
      "753 ns ± 4.89 ns per loop (mean ± std. dev. of 7 runs, 1000000 loops each)\n"
     ]
    }
   ],
   "source": [
    "%timeit wordle_game.helper.generate_state(wordlist.answers[0], wordlist.acceptable_guesses[0])"
   ]
  },
  {
   "cell_type": "code",
   "execution_count": null,
   "metadata": {},
   "outputs": [],
   "source": [
    "%lprun -f wordle.generate_state wordle.generate_state(wordlist.answers[0], wordlist.acceptable_guesses[0])"
   ]
  },
  {
   "cell_type": "code",
   "execution_count": 10,
   "metadata": {},
   "outputs": [],
   "source": [
    "def profiler():\n",
    "    for i in range(100000):\n",
    "        wordle_game.helper.generate_state(wordlist.answers[0], wordlist.acceptable_guesses[0])"
   ]
  },
  {
   "cell_type": "code",
   "execution_count": 11,
   "metadata": {
    "scrolled": true
   },
   "outputs": [],
   "source": [
    "cProfile.runctx(\"profiler()\", globals(), locals(), \"Profile.prof\")"
   ]
  },
  {
   "cell_type": "code",
   "execution_count": 12,
   "metadata": {},
   "outputs": [
    {
     "name": "stdout",
     "output_type": "stream",
     "text": [
      "Wed Jan 26 21:44:29 2022    Profile.prof\n",
      "\n",
      "         1497120 function calls in 0.496 seconds\n",
      "\n",
      "   Ordered by: cumulative time\n",
      "\n",
      "   ncalls  tottime  percall  cumtime  percall filename:lineno(function)\n",
      "        1    0.000    0.000    0.496    0.496 {built-in method builtins.exec}\n",
      "        1    0.000    0.000    0.496    0.496 <string>:1(<module>)\n",
      "        1    0.040    0.040    0.496    0.496 2419803596.py:1(profiler)\n",
      "   100000    0.027    0.000    0.456    0.000 {built-in method wordle_game.helper.generate_state}\n",
      "   100000    0.019    0.000    0.429    0.000 helper.pyx:10(generate_state (wrapper))\n",
      "   100000    0.327    0.000    0.410    0.000 helper.pyx:10(generate_state)\n",
      "  1197116    0.083    0.000    0.083    0.000 helper.pyx:7(map_char)\n",
      "        1    0.000    0.000    0.000    0.000 {method 'disable' of '_lsprof.Profiler' objects}\n",
      "\n",
      "\n"
     ]
    },
    {
     "data": {
      "text/plain": [
       "<pstats.Stats at 0x7f07407178e0>"
      ]
     },
     "execution_count": 12,
     "metadata": {},
     "output_type": "execute_result"
    }
   ],
   "source": [
    "s = pstats.Stats(\"Profile.prof\")\n",
    "s.strip_dirs().sort_stats(\"cumtime\").print_stats()"
   ]
  },
  {
   "cell_type": "markdown",
   "metadata": {},
   "source": [
    "# Generating all states"
   ]
  },
  {
   "cell_type": "code",
   "execution_count": 12,
   "metadata": {},
   "outputs": [
    {
     "name": "stderr",
     "output_type": "stream",
     "text": [
      "100%|█████████████████████████████████████████████████████████████████████████████| 2315/2315 [00:21<00:00, 106.69it/s]\n"
     ]
    }
   ],
   "source": [
    "# state_space = np.empty((wordle.WORD_LEN, len(wordlist.answers)*len(wordlist.acceptable_guesses)), dtype=int)\n",
    "state_space = np.zeros((len(wordlist.answers), len(wordlist.acceptable_guesses)), dtype=int)\n",
    "\n",
    "for i, target in enumerate(tqdm(wordlist.answers)):\n",
    "    for j, guess in enumerate(wordlist.acceptable_guesses):\n",
    "        state_space[i, j] = wordle_game.helper.generate_state(target, guess)\n",
    "        \n",
    "# state_space = state_space.T\n",
    "np.save('state_space.npy', state_space)"
   ]
  },
  {
   "cell_type": "code",
   "execution_count": 13,
   "metadata": {
    "scrolled": true
   },
   "outputs": [
    {
     "data": {
      "text/plain": [
       "('aback', 'aahed', array([2, 1, 0, 0, 0]))"
      ]
     },
     "execution_count": 13,
     "metadata": {},
     "output_type": "execute_result"
    }
   ],
   "source": [
    "i=0\n",
    "j=0\n",
    "wordlist.answers[i], wordlist.acceptable_guesses[j], wordle.generate_state(wordlist.answers[i], wordlist.acceptable_guesses[j])"
   ]
  },
  {
   "cell_type": "code",
   "execution_count": 14,
   "metadata": {},
   "outputs": [
    {
     "data": {
      "text/plain": [
       "5"
      ]
     },
     "execution_count": 14,
     "metadata": {},
     "output_type": "execute_result"
    }
   ],
   "source": [
    "state_space[i, j]"
   ]
  },
  {
   "cell_type": "code",
   "execution_count": 8,
   "metadata": {},
   "outputs": [],
   "source": [
    "state_space = np.load('state_space.npy')"
   ]
  },
  {
   "cell_type": "code",
   "execution_count": 9,
   "metadata": {},
   "outputs": [
    {
     "data": {
      "text/plain": [
       "(2315, 12972)"
      ]
     },
     "execution_count": 9,
     "metadata": {},
     "output_type": "execute_result"
    }
   ],
   "source": [
    "state_space.shape"
   ]
  },
  {
   "cell_type": "code",
   "execution_count": 10,
   "metadata": {},
   "outputs": [
    {
     "data": {
      "text/plain": [
       "(2315, 12972)"
      ]
     },
     "execution_count": 10,
     "metadata": {},
     "output_type": "execute_result"
    }
   ],
   "source": [
    "state_space.shape"
   ]
  },
  {
   "cell_type": "code",
   "execution_count": 11,
   "metadata": {},
   "outputs": [],
   "source": [
    "counts = wordle_game.helper.calculate_counts(state_space)"
   ]
  },
  {
   "cell_type": "code",
   "execution_count": 12,
   "metadata": {},
   "outputs": [],
   "source": [
    "entropy = wordle_game.helper.calc_entropy(counts)"
   ]
  },
  {
   "cell_type": "code",
   "execution_count": 13,
   "metadata": {},
   "outputs": [
    {
     "data": {
      "text/plain": [
       "array(['roate', 'raise', 'soare'], dtype='<U5')"
      ]
     },
     "execution_count": 13,
     "metadata": {},
     "output_type": "execute_result"
    }
   ],
   "source": [
    "np.array(wordlist.acceptable_guesses)[np.argpartition(entropy, 3)[:3]]"
   ]
  },
  {
   "cell_type": "code",
   "execution_count": 20,
   "metadata": {},
   "outputs": [
    {
     "data": {
      "text/plain": [
       "'qajaq'"
      ]
     },
     "execution_count": 20,
     "metadata": {},
     "output_type": "execute_result"
    }
   ],
   "source": [
    "wordlist.acceptable_guesses[np.argmax(entropy)]"
   ]
  },
  {
   "cell_type": "code",
   "execution_count": 21,
   "metadata": {},
   "outputs": [],
   "source": [
    "def convert_state(state):\n",
    "    return state[0]+state[1]*3+state[2]*9+state[3]*27+state[4]*81"
   ]
  },
  {
   "cell_type": "code",
   "execution_count": 152,
   "metadata": {},
   "outputs": [
    {
     "name": "stdout",
     "output_type": "stream",
     "text": [
      "\u001b[32mG\u001b[0m\u001b[33mY\u001b[0m\u001b[40m\u001b[31mB\u001b[0m\u001b[40m\u001b[31mB\u001b[0m\u001b[40m\u001b[31mB\u001b[0m\n",
      "\u001b[40m \u001b[0m\u001b[40m \u001b[0m\u001b[40m \u001b[0m\u001b[40m \u001b[0m\u001b[40m \u001b[0m\n",
      "\u001b[40m \u001b[0m\u001b[40m \u001b[0m\u001b[40m \u001b[0m\u001b[40m \u001b[0m\u001b[40m \u001b[0m\n",
      "\u001b[40m \u001b[0m\u001b[40m \u001b[0m\u001b[40m \u001b[0m\u001b[40m \u001b[0m\u001b[40m \u001b[0m\n",
      "\u001b[40m \u001b[0m\u001b[40m \u001b[0m\u001b[40m \u001b[0m\u001b[40m \u001b[0m\u001b[40m \u001b[0m\n",
      "\u001b[40m \u001b[0m\u001b[40m \u001b[0m\u001b[40m \u001b[0m\u001b[40m \u001b[0m\u001b[40m \u001b[0m\n",
      "\n",
      "Answers 37\n"
     ]
    },
    {
     "name": "stderr",
     "output_type": "stream",
     "text": [
      "100%|██████████| 2315/2315 [00:00<00:00, 5411.87it/s] \n"
     ]
    },
    {
     "name": "stdout",
     "output_type": "stream",
     "text": [
      "Count 479964\n",
      "['punch' 'cloot' 'nicht' 'pinot' 'clipt']\n",
      "-3.8740605612282875\n",
      "cloot\n",
      "\u001b[32mG\u001b[0m\u001b[33mY\u001b[0m\u001b[40m\u001b[31mB\u001b[0m\u001b[40m\u001b[31mB\u001b[0m\u001b[40m\u001b[31mB\u001b[0m\n",
      "\u001b[40m\u001b[31mB\u001b[0m\u001b[40m\u001b[31mB\u001b[0m\u001b[32mG\u001b[0m\u001b[32mG\u001b[0m\u001b[40m\u001b[31mB\u001b[0m\n",
      "\u001b[40m \u001b[0m\u001b[40m \u001b[0m\u001b[40m \u001b[0m\u001b[40m \u001b[0m\u001b[40m \u001b[0m\n",
      "\u001b[40m \u001b[0m\u001b[40m \u001b[0m\u001b[40m \u001b[0m\u001b[40m \u001b[0m\u001b[40m \u001b[0m\n",
      "\u001b[40m \u001b[0m\u001b[40m \u001b[0m\u001b[40m \u001b[0m\u001b[40m \u001b[0m\u001b[40m \u001b[0m\n",
      "\u001b[40m \u001b[0m\u001b[40m \u001b[0m\u001b[40m \u001b[0m\u001b[40m \u001b[0m\u001b[40m \u001b[0m\n",
      "\n",
      "Answers 7\n"
     ]
    },
    {
     "name": "stderr",
     "output_type": "stream",
     "text": [
      "100%|██████████| 2315/2315 [00:00<00:00, 26696.80it/s]\n"
     ]
    },
    {
     "name": "stdout",
     "output_type": "stream",
     "text": [
      "Count 90804\n",
      "['spink' 'knosp' 'spunk' 'spank' 'upend']\n",
      "-2.797096305432331\n",
      "knosp\n",
      "\u001b[32mG\u001b[0m\u001b[33mY\u001b[0m\u001b[40m\u001b[31mB\u001b[0m\u001b[40m\u001b[31mB\u001b[0m\u001b[40m\u001b[31mB\u001b[0m\n",
      "\u001b[40m\u001b[31mB\u001b[0m\u001b[40m\u001b[31mB\u001b[0m\u001b[32mG\u001b[0m\u001b[32mG\u001b[0m\u001b[40m\u001b[31mB\u001b[0m\n",
      "\u001b[40m\u001b[31mB\u001b[0m\u001b[32mG\u001b[0m\u001b[32mG\u001b[0m\u001b[33mY\u001b[0m\u001b[32mG\u001b[0m\n",
      "\u001b[40m \u001b[0m\u001b[40m \u001b[0m\u001b[40m \u001b[0m\u001b[40m \u001b[0m\u001b[40m \u001b[0m\n",
      "\u001b[40m \u001b[0m\u001b[40m \u001b[0m\u001b[40m \u001b[0m\u001b[40m \u001b[0m\u001b[40m \u001b[0m\n",
      "\u001b[40m \u001b[0m\u001b[40m \u001b[0m\u001b[40m \u001b[0m\u001b[40m \u001b[0m\u001b[40m \u001b[0m\n",
      "\n",
      "Answers 1\n",
      "Answer is snoop\n",
      "\u001b[32mG\u001b[0m\u001b[33mY\u001b[0m\u001b[40m\u001b[31mB\u001b[0m\u001b[40m\u001b[31mB\u001b[0m\u001b[40m\u001b[31mB\u001b[0m\n",
      "\u001b[40m\u001b[31mB\u001b[0m\u001b[40m\u001b[31mB\u001b[0m\u001b[32mG\u001b[0m\u001b[32mG\u001b[0m\u001b[40m\u001b[31mB\u001b[0m\n",
      "\u001b[40m\u001b[31mB\u001b[0m\u001b[32mG\u001b[0m\u001b[32mG\u001b[0m\u001b[33mY\u001b[0m\u001b[32mG\u001b[0m\n",
      "\u001b[32mG\u001b[0m\u001b[32mG\u001b[0m\u001b[32mG\u001b[0m\u001b[32mG\u001b[0m\u001b[32mG\u001b[0m\n",
      "\u001b[40m \u001b[0m\u001b[40m \u001b[0m\u001b[40m \u001b[0m\u001b[40m \u001b[0m\u001b[40m \u001b[0m\n",
      "\u001b[40m \u001b[0m\u001b[40m \u001b[0m\u001b[40m \u001b[0m\u001b[40m \u001b[0m\u001b[40m \u001b[0m\n",
      "\n"
     ]
    }
   ],
   "source": [
    "game = wordle.WordleGame(wordlist)\n",
    "game.guess('soare')\n",
    "guess_num = 8530\n",
    "\n",
    "filter_mat = np.ones(state_space.shape[0], dtype=int)\n",
    "while game.complete() == wordle.IN_PROGRESS:\n",
    "    print(game)\n",
    "    answers = solver.filter_answers(game)\n",
    "    print(\"Answers\", len(answers))\n",
    "    if len(answers) == 1:\n",
    "        print(\"Answer is\", answers[0])\n",
    "        game.guess(answers[0])\n",
    "        print(game)\n",
    "        break\n",
    "\n",
    "    state = convert_state(game.state[game.round - 2])\n",
    "    filter_mat[state_space[:, guess_num] != state] = 0\n",
    "    \n",
    "    #counts\n",
    "    counts = calculate_counts(state_space, filter_mat)\n",
    "    print(\"Count\", counts.sum())\n",
    "    # entropy\n",
    "    entropy = calc_entropy(counts)\n",
    "    \n",
    "    print(np.array(wordlist.acceptable_guesses)[np.argpartition(entropy, 5)[:5]])\n",
    "    # min entropy\n",
    "    guess_num = np.argmin(entropy)\n",
    "    print(entropy[guess_num])\n",
    "    guess = wordlist.acceptable_guesses[guess_num]\n",
    "    print(guess)\n",
    "    game.guess(guess)\n"
   ]
  },
  {
   "cell_type": "code",
   "execution_count": 8,
   "metadata": {},
   "outputs": [],
   "source": [
    "game = wordle.WordleGame(target='perky')"
   ]
  },
  {
   "cell_type": "code",
   "execution_count": 9,
   "metadata": {},
   "outputs": [],
   "source": [
    "solve = solver.MaxEntropy()"
   ]
  },
  {
   "cell_type": "code",
   "execution_count": 10,
   "metadata": {},
   "outputs": [
    {
     "name": "stdout",
     "output_type": "stream",
     "text": [
      "\u001b[40m\u001b[31mB\u001b[0m\u001b[40m\u001b[31mB\u001b[0m\u001b[40m\u001b[31mB\u001b[0m\u001b[33mY\u001b[0m\u001b[33mY\u001b[0m\n",
      "\u001b[40m \u001b[0m\u001b[40m \u001b[0m\u001b[40m \u001b[0m\u001b[40m \u001b[0m\u001b[40m \u001b[0m\n",
      "\u001b[40m \u001b[0m\u001b[40m \u001b[0m\u001b[40m \u001b[0m\u001b[40m \u001b[0m\u001b[40m \u001b[0m\n",
      "\u001b[40m \u001b[0m\u001b[40m \u001b[0m\u001b[40m \u001b[0m\u001b[40m \u001b[0m\u001b[40m \u001b[0m\n",
      "\u001b[40m \u001b[0m\u001b[40m \u001b[0m\u001b[40m \u001b[0m\u001b[40m \u001b[0m\u001b[40m \u001b[0m\n",
      "\u001b[40m \u001b[0m\u001b[40m \u001b[0m\u001b[40m \u001b[0m\u001b[40m \u001b[0m\u001b[40m \u001b[0m\n",
      "\n"
     ]
    },
    {
     "data": {
      "text/plain": [
       "'direr'"
      ]
     },
     "execution_count": 10,
     "metadata": {},
     "output_type": "execute_result"
    }
   ],
   "source": [
    "game.add_state(\"soare\",\"BBBYY\")\n",
    "print(game)\n",
    "solve.guess(game)"
   ]
  },
  {
   "cell_type": "code",
   "execution_count": 11,
   "metadata": {},
   "outputs": [],
   "source": [
    "%lprun -f solve.guess solve.guess(game)"
   ]
  },
  {
   "cell_type": "code",
   "execution_count": 23,
   "metadata": {},
   "outputs": [
    {
     "name": "stdout",
     "output_type": "stream",
     "text": [
      "BBBYY\n",
      "BBGYB\n",
      "     \n",
      "     \n",
      "     \n",
      "     \n",
      "\n"
     ]
    },
    {
     "data": {
      "text/plain": [
       "'dampy'"
      ]
     },
     "execution_count": 23,
     "metadata": {},
     "output_type": "execute_result"
    }
   ],
   "source": [
    "game.add_state(\"threw\",\"BBGYB\")\n",
    "print(game)\n",
    "solve.guess(game)"
   ]
  },
  {
   "cell_type": "code",
   "execution_count": 24,
   "metadata": {},
   "outputs": [
    {
     "name": "stdout",
     "output_type": "stream",
     "text": [
      "BBBYY\n",
      "BBGYB\n",
      "BGGBG\n",
      "     \n",
      "     \n",
      "     \n",
      "\n"
     ]
    },
    {
     "data": {
      "text/plain": [
       "'abamp'"
      ]
     },
     "execution_count": 24,
     "metadata": {},
     "output_type": "execute_result"
    }
   ],
   "source": [
    "game.add_state(\"nerdy\",\"BGGBG\")\n",
    "print(game)\n",
    "solve.guess(game)"
   ]
  },
  {
   "cell_type": "code",
   "execution_count": 26,
   "metadata": {},
   "outputs": [
    {
     "name": "stdout",
     "output_type": "stream",
     "text": [
      "BBBYY\n",
      "BBGYB\n",
      "BGGBG\n",
      "BGGBG\n",
      "     \n",
      "     \n",
      "\n"
     ]
    },
    {
     "data": {
      "text/plain": [
       "'abamp'"
      ]
     },
     "execution_count": 26,
     "metadata": {},
     "output_type": "execute_result"
    }
   ],
   "source": [
    "game.add_state(\"mercy\",\"BGGBG\")\n",
    "print(game)\n",
    "solve.guess(game)"
   ]
  },
  {
   "cell_type": "code",
   "execution_count": 27,
   "metadata": {},
   "outputs": [
    {
     "data": {
      "text/plain": [
       "['jerky', 'perky']"
      ]
     },
     "execution_count": 27,
     "metadata": {},
     "output_type": "execute_result"
    }
   ],
   "source": [
    "solver.filter_answers(game)"
   ]
  },
  {
   "cell_type": "markdown",
   "metadata": {},
   "source": [
    "# Simulate"
   ]
  },
  {
   "cell_type": "code",
   "execution_count": 12,
   "metadata": {},
   "outputs": [
    {
     "name": "stderr",
     "output_type": "stream",
     "text": [
      "100%|████████████████████████████████████████████████████████████████████████████████████████████████| 2315/2315 [43:47<00:00,  1.14s/it]\n"
     ]
    }
   ],
   "source": [
    "solutions = solve.simulate()\n",
    "np.save('../data/maxentropy_solutions.npy', solutions)"
   ]
  },
  {
   "cell_type": "code",
   "execution_count": null,
   "metadata": {},
   "outputs": [],
   "source": [
    "solutions = np.load('../data/maxentropy_solutions.npy')"
   ]
  },
  {
   "cell_type": "code",
   "execution_count": 15,
   "metadata": {},
   "outputs": [
    {
     "name": "stdout",
     "output_type": "stream",
     "text": [
      "[[  -1   24]\n",
      " [   2   22]\n",
      " [   3  883]\n",
      " [   4 1274]\n",
      " [   5  110]\n",
      " [   6    2]]\n"
     ]
    }
   ],
   "source": [
    "unique, counts = np.unique(solutions, return_counts=True)\n",
    "print(np.asarray((unique, counts)).T)"
   ]
  },
  {
   "cell_type": "code",
   "execution_count": 17,
   "metadata": {},
   "outputs": [
    {
     "data": {
      "text/plain": [
       "3.645133129637713"
      ]
     },
     "execution_count": 17,
     "metadata": {},
     "output_type": "execute_result"
    }
   ],
   "source": [
    "# Average number of guesses\n",
    "np.sum(unique[1:]*counts[1:])/counts[1:].sum()"
   ]
  },
  {
   "cell_type": "markdown",
   "metadata": {},
   "source": [
    "```python\n",
    "cpu = os.cpu_count() - 1\n",
    "cpu = cpu if cpu > 0 else cpu\n",
    "\n",
    "\n",
    "results = []\n",
    "\n",
    "for target in tqdm(wordlist.answers):\n",
    "    with Pool(os.cpu_count() - 1) as pool:\n",
    "        results.extend(pool.map(partial(wordle_game.helper.generate_state, target), wordlist.acceptable_guesses))\n",
    "        pool.close()\n",
    "        pool.join()\n",
    "        \n",
    "```"
   ]
  }
 ],
 "metadata": {
  "kernelspec": {
   "display_name": "Python 3",
   "language": "python",
   "name": "python3"
  },
  "language_info": {
   "codemirror_mode": {
    "name": "ipython",
    "version": 3
   },
   "file_extension": ".py",
   "mimetype": "text/x-python",
   "name": "python",
   "nbconvert_exporter": "python",
   "pygments_lexer": "ipython3",
   "version": "3.6.5"
  }
 },
 "nbformat": 4,
 "nbformat_minor": 2
}
